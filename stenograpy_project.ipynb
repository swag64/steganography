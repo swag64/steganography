{
  "nbformat": 4,
  "nbformat_minor": 0,
  "metadata": {
    "colab": {
      "provenance": [],
      "authorship_tag": "ABX9TyMHb0HEUnpu+QpWGOPxzkUH",
      "include_colab_link": true
    },
    "kernelspec": {
      "name": "python3",
      "display_name": "Python 3"
    },
    "language_info": {
      "name": "python"
    }
  },
  "cells": [
    {
      "cell_type": "markdown",
      "metadata": {
        "id": "view-in-github",
        "colab_type": "text"
      },
      "source": [
        "<a href=\"https://colab.research.google.com/github/swag64/steganography/blob/main/stenograpy_project.ipynb\" target=\"_parent\"><img src=\"https://colab.research.google.com/assets/colab-badge.svg\" alt=\"Open In Colab\"/></a>"
      ]
    },
    {
      "cell_type": "code",
      "execution_count": null,
      "metadata": {
        "colab": {
          "base_uri": "https://localhost:8080/"
        },
        "id": "kkJGdMMo-JFB",
        "outputId": "01815b35-dc5f-4313-956c-acda73563120"
      },
      "outputs": [
        {
          "output_type": "stream",
          "name": "stdout",
          "text": [
            "Requirement already satisfied: opencv-python in /usr/local/lib/python3.11/dist-packages (4.11.0.86)\n",
            "Requirement already satisfied: numpy in /usr/local/lib/python3.11/dist-packages (1.26.4)\n"
          ]
        }
      ],
      "source": [
        "!pip install opencv-python numpy\n"
      ]
    },
    {
      "cell_type": "code",
      "source": [
        "import cv2\n",
        "import numpy as np\n",
        "import os\n",
        "\n",
        "def hide_message(image_path, secret_message, output_path):\n",
        "    \"\"\"Hides a secret message inside an image using LSB steganography.\"\"\"\n",
        "\n",
        "    # Load the image\n",
        "    img = cv2.imread(image_path)\n",
        "    if img is None:\n",
        "        print(\"Error: Image not found!\")\n",
        "        return\n",
        "\n",
        "    # Append a delimiter to indicate the end of the message\n",
        "    secret_message += \"###\"\n",
        "\n",
        "    # Convert message to binary\n",
        "    binary_msg = ''.join(format(ord(c), '08b') for c in secret_message)\n",
        "\n",
        "    data_index = 0\n",
        "    message_length = len(binary_msg)\n",
        "\n",
        "    # Modify the image pixels\n",
        "    for row in img:\n",
        "        for pixel in row:\n",
        "            for i in range(3):  # Loop through RGB channels\n",
        "                if data_index < message_length:\n",
        "                    pixel[i] = (pixel[i] & ~1) | int(binary_msg[data_index])\n",
        "                    data_index += 1\n",
        "                else:\n",
        "                    break\n",
        "\n",
        "    # Save the encoded image\n",
        "    cv2.imwrite(output_path, img)\n",
        "    print(f\"Message hidden successfully in hi how are you {output_path}!\")\n",
        "\n",
        "# Define paths\n",
        "image_path = \"/content/input_image.jpeg\"  # Path to your uploaded image\n",
        "output_path = \"/content/encoded_image.jpeg\"  # Path to save the steganographic image\n",
        "\n",
        "# Check if the image exists\n",
        "if os.path.exists(image_path):\n",
        "    print(\"Image found! Hiding message...\")\n",
        "    hide_message(image_path, \"Hello from Google Colab!\", output_path)\n",
        "else:\n",
        "    print(\"Error: Image not found! Upload it first.\")\n"
      ],
      "metadata": {
        "colab": {
          "base_uri": "https://localhost:8080/"
        },
        "id": "9M3jnP1e-x-f",
        "outputId": "57b2a64d-d61f-4f47-9243-deca2f2460ed"
      },
      "execution_count": null,
      "outputs": [
        {
          "output_type": "stream",
          "name": "stdout",
          "text": [
            "Image found! Hiding message...\n",
            "Message hidden successfully in hi how are you /content/encoded_image.jpeg!\n"
          ]
        }
      ]
    },
    {
      "cell_type": "code",
      "source": [
        "def extract_message(image_path):\n",
        "    \"\"\"Extracts a hidden message from an image using LSB steganography.\"\"\"\n",
        "\n",
        "    # Load the image\n",
        "    img = cv2.imread(image_path)\n",
        "    if img is None:\n",
        "        print(\"Error: Image not found!\")\n",
        "        return\n",
        "\n",
        "    binary_msg = \"\"\n",
        "\n",
        "    # Extract bits from image pixels\n",
        "    for row in img:\n",
        "        for pixel in row:\n",
        "            for i in range(3):  # Loop through RGB channels\n",
        "                binary_msg += str(pixel[i] & 1)\n",
        "\n",
        "    # Convert binary to text\n",
        "    decoded_chars = [chr(int(binary_msg[i:i+8], 2)) for i in range(0, len(binary_msg), 8)]\n",
        "    decoded_msg = ''.join(decoded_chars).split(\"###\")[0]  # Stop at delimiter\n",
        "\n",
        "    print(\"Decoded Message:\", decoded_msg)\n",
        "\n",
        "# Extract message from the encoded image\n",
        "extract_message(output_path)\n"
      ],
      "metadata": {
        "colab": {
          "base_uri": "https://localhost:8080/"
        },
        "id": "QS4k_E85CsDu",
        "outputId": "9fc1bcfb-6647-4d28-e40d-c84d5709cdc1"
      },
      "execution_count": null,
      "outputs": [
        {
          "output_type": "stream",
          "name": "stdout",
          "text": [
            "Decoded Message: m¤ülw\r³$H \u0012j\u0001!äOÒÚ4©\u000e\u0000&Ú8\u0005Rçpçlrj¶×\u0005þ`äÅ¾\u0014ßøÛTvãuE¤)\u0011£}Ûº½WF\u000eû'A6\u000e«.ø\u0004¶\u0001¿ÆÇvÛ;\u0012I$±:ßíý¸Ûýs©gÿà\fRU=¸I_Ëæ\u0007¼)\\t|0÷òøãÇÛoÙ I7\u0015n\u001dû[\u00035\\#ÕyD?\t\u0015N\n",
            ".\u001byØ@@JM¤oÈ·#m°\u0000í\u0001 \u001br?×9Äþ\u0007:ÚÄtª£>cÇ° ~êO!\u0002Öß\u0012?xÇ§¤­VWl¶ø¢\u0004jv.6§\n",
            "Ë®Û`Õ<ïæúö e:%¹\u0007ãrÜ¶Û\u0000\u0006q%_í\u0001·\u001b\u0018\f\\Waÿà\fUª©TäßET«\u0003°Å{g\u001f¹'^o`o:5ß\u00031H¢åÖlÿ×\u0010²26i¯øÖ¯Ú©\u0000\u0000\tn1Ãð\u0000\u0000\u0000\u0000\u0012Uþ¡ä@&#±ãñä©[i8\u0004NÈ\u0016?/vÖ\u0002np÷»ÙlH'E\u001bKÄ\u0014±*¢MàÛ\u0003ýZÛÿY­l%CÃ~#ªðöÄÿÿi\u001cãÉø\u001fð\u0000\u0000\t±ÙP-\u001e6À'üÕÛ\u001e8\u0002JªJE'lh1ÂÙ'ãØüB\u0011KV\u001c*oE¾zR&<su0­»ÒqÅ\u001aW\u0019Z}w\u001e4À6%ÔJH\u001dÆI \u0000&7\u0003\u000fÿ\u0000\u0000\u0004dãªý.#s¾ÜNà\u0007-«²A\\mDÑºÓ\u0010õÀ\u0003?¶çpó\u001cÄ&ìKÛB­)}z§~r4IW\u001co\bãµ5Ø\u0004bÂ#\u0013tã\u0018ëmÿòcp\u0019Àÿð\u0000\u0000FIÅ!êâN\u0000/\u0016ê'/øUGH¤\u0012:¤\\|Á_\rÉÇá\u0017\"¡õÝeØ\u0012Fº«óA|û¹(©bË)%XÆÓ®\u0002I¶\u000fM\u0002Âªm²K\u0000\u0000\u0000\u0000\u0000\u0004\u001cjý^$ó\u00176i*\r»Rüí²A\\­©Zq¡¢ãð>?²>X`°¨®·\u000eUv»`ÏÚ¸ISI9´o}J2î\u001a·eÇQE hª¨vÛ$°\u0000\u0000\u0000\u0000\u0000FqÆ *\u001d¿\u000esAÉqVãU/ÎÄ¤\u0016©\u001cuµ_¬o:'Tv<à\u000e\u001c4â¦Ù\u0001ä\u0010\u0019^qb*F.uN\u0010ÍL¸Ì\u0006çtñ\u000eK£JM à;:\u0001¶Ø\u001bm¤I$g\u0013áQäî?Ûã>*oú'fÝBësn\u0012ª\u0018`rÁ\u0019*Ù§\u0003\u0001-F÷g)l\u0013n|Àñ\u0001²¯\u0013­;Z c%¼±»19+P_\u001dFV\u0014£©P\u001bm\u0000\u0001¹$C9QêáÀäýÁ£\u0002ÀT\u0002vm«éª9\u001c{\u0014t:\u0000åsÏÂK»6!\u0005ì¬M(¦áì\u0001ñ¿§TÄå½;oÂ\u0001&¶Û§GAØI\u0017\u0018Ö\u0019¸Ç\u0000\u0006ØÿÿI$Øìmý^$r0 :N?þ?Ù¹%½\u001bdª¹#¸¼ëA0)?³<#ý¹\u000f\u001bcÇã\u0004Áù\u000bnI*½ÿZû\n",
            "u¦yØì\u0013M*w%Ap\u0000mÿÿù$LqÆ¯ÒáÈÜãü\\ÿþ8\u0003ý+Î¦ER²,\\ÎíN\u00197L\u001cú\u0018ø7&öx³\u001a\u001fÓ+1íÆý8Ó$êT|ÿ;¥¿©Ý¼\\Ð åµ\u0018\bÜ\u0000\u0000\u0018ÛmI$'\u001dª\u0002¡Û\u0000\u0000ÆOøüäÙÈê£j]ÇTÅüBC\u0018×ù\u0011¸ä'%\u0002O¥J\u000f\u0014´Ç°i!·Xª_$ü\u000e¤ ¸\n",
            "À\u0010Iz3c\u0005Ö°\u000fÌ dI)$Bqx.\u001d\u001fÇ'þNg\u001fÉÀþBcu*¶¶*NÛlñ\n",
            "©á94SZ\u0005RºíØV)Û%¿\u000fxòd³hSJÎÀÛ×\u0014aUn*EÑÀ\u0013¶Þô\u001aGm\u0001%RØA\u0018#ÁàQïëöBãqµÜpzN·\u001a3»lRm:e\u0007#dD$\u0005;Ë1ð.·»I]QH\u0019¸Òx6W\u000bÅ&ÏÍÜö\u0013D)¶\u0003Y\t­Ã4Ì¢I$vØ\u0000V¬\u001d½¿áãd!aqJvä¾9\u0007Æ\u0012¶\\Äu¿¬\u0015Á)\u0001wÂRw\u0010o2\n",
            "\rµuI:]i³ÑîüeÐ±ésÈæ£7ð­µ\u001eÚþ3]JÛm¶'m\u0000\u0005j7\u001bÇþ\u001eÕÃé\u0014Ts#sÇ\u001eÙ.3D ÍHxzÒìÆætêÚ££·>ÈmV«\u0012qË\u001b\u0005G[ælÃ¬\u0006\u0000\u001aßÌ³} ÞP\u0001'aj$vØ\u0000ªÔá¼G\u0002l: \u000eÕ6ø\u001e6$mÄ¯\u0019ÒW3ðH¸·¼=\bªrß·ÛoÇ\u001d¨\u0003\u000bUßÛvEVeàbD«sßå\u0005)ïh\u001d\u001fñÿ\u0007gY'mÛj·ÛÄ\u000fÙÊÌU\u0000ìSo\u001b¹\u001b\u0003ã\u00167ÅÿÄ\f±\tvpI!ïJûkx{¶8¤uÚ\u0004­l\u0005qÚ}:çAÌ)t7\u0004S(Ãmåg$F99ÒvØ¶Vª\u001d½áíR¦\u0016ÙFÀ\u0002>\u001c?É;âàííµ\u000brE§\u001eÇfúÔM\u0000½\u0016Ç\u001a¢(R¢ißøÔ\n",
            "³mTV!=Xrió.õ\u0007?üð3'mÚEjBª¤:¥^Ø}KÛâFÿ&AÌñq#Â¤ª®,¥^Mªæò\fü¤/VªÛ\u0018¨Ôµó\u0016:WC+lu\n",
            "$ª©kg¢')Õ%R\u0000ããBvØ¤VÀ-U¼RªaªstúP\u0007\u001e0$l\r£â\u000f\u0007q¹ãÚªí âjÕú1QD\u000f´/Ä­Dú¨°K[É¤ä«å\u001d+¶Ðô¯VËM®¦Ú¥+q\rb\u001a>\u0006ÑÇ\u0012Dá*&«q\f\bL(õ\u0000~$\u001d¸ÀÆOç\u000føää&u&£É¹mNêr½°©ÃÌrD·(.ì\u0017\u0017E­¸ã<Ø{n'©zP\u0012ø±\f\n",
            "\u0001úU\u0016\u0001£ãe\u001cr%$V¾\u0015·bj«?1àP©øâOã|c\u001f1\u0010ïqÕ)h Â#®ÔÑ5R\u0002g\n",
            "Ôn\u0006­´´·/a_4Ä\u001bré(*{Hj\u0011öÏ4´§Pg¦\u0019>tQÁÀ\u001c\u0007\u001bþÚ¶&Ú´ñî6´\n",
            "oñÜâFÜ\u001ff\f¢+ýüsc²Qm+Ï\u0011ù2âA*'<\u000e\u0003B££ÿ»\u000eÕì\"Na>Ã=Åªe@wh·=öÔz@:!\u001b\u0003þ?mÏÒHìR·C#}ï_µÀáÆ#Oölj\"\u0006Á 7\u0000å»W\u001aËIí \u0007\u0007\u0000béXðoWmqâ\u0000máºÉ:\"ñ\u000b \u0013ÔuúÇ¤Ê\r\u0012\u0003ÿÀ\u001føÛâ¥Nm$±ÞF!\t¯L\u000fä~8ÛH\r\u001d:öaè¼ý@uþ>Ñ¬EÚ¤|ÐæÛØ:Æúi:\u0000\u0002r°^\u0017\u001e1-\u0019¤\u0018§#ò¾\u0005?æÒy9\u0010?\u0003ð\u0000q¾\u0015·fêTÜ¿Ûé\u00058\u001e6ün5G%Å \u0011çú~Wåg\n",
            "²Ù<5¹¯\u000e-Ì6;Zz¹(ÇìNö<v'S89^ìÛo¹Q\u0005å\u0012O[PnÇPgü\u0000\u0000ÿ\u001cá$±nÔÞ9$\u0001¾/²D\u001có¤ZÐ4G\u0012Ûã£Eñ'V_l.iR*\u0001J\u0013Û\u001eÃíÞF±\fà+iýûlLb½«Uüãø¶u\u0007<yi\u0006e·À\u0003ÿÿ1ÕTæíTæ\u0003F,«üvcë\u001cëK¶*Õ¯Z|çæMõg\u001c\u0013(c\fÅU*=¤Ù!V¼04:I\u00108î¿\u0018 =&\u0004£ÿ\u000b>¶®qµ\u0011\u0018\u0019I;lmÏøCýÛejàq\u0018s®à|T#Aé9ôZ9gªÍt\u0018b@®ÎFçf¯×lªî8ä«+¢C»\u0013õÂäësd\u0018'k¹Úïq^ÈÏÈã\u00111\u0000Î¶ÇöÛ\u001c\u000fÇ;\u0012II8\u001dÇ?\u001dÆÀà\n",
            "Ùµ¸ì\"Øø}Ã\u001cR)\u000fÄü¶óbVW&1ÐnßIEqÕq )\u0016õ¿&-¾#óq½üâ1\u0013Ó\\WeáÈø\u001c\fv$êïþ#l\u000fÛnOøWü`\u0007U´Ö\t\u0013\tûkÃ!\u0012¶I\u001cxÚê0ßm3IÿG¦DzCwèåC¾#£Ú»\\s D,·X\"ò{ÄÙ\u001bñ\u001dðy¹vWþ\u001coñÇ$±V?\u001e7\u0000þ6Û\u0003ú%£\n",
            "M=]Ú\u001fæ¶ø,i\u0019Ç\u0019Àp5ÉÚVÇ\u001d¤®ÖY\u0014(Ð´IÁéd¶8¿][\u0001]ê=Ýr?)<Áñ·?HâMü\fN$êïäl\u000fÜn>\u0000·3c\u0017ÖJc[ÁIÄZVÕ$7$ì\u0000\rKL?Ä)àíX-\u000b*«\u0018\u0003ü¦ýD\u0016,q/oÇÎ\u0017\u001b\n",
            "Ð~\u0003ìÛsûqÇ\u001e?;\u001d¶¶\u0007ý·8áÈÛ\u0003÷@:SUsT\u0012:ÜÚÖáèî\u001e\u0007ò\u0004\u0002\u0011rÌ©SÚ\u0002\\q\b@ü}kVÒTGêô«08\u0004w7¬5«n0ÇÌßÀ'&þ£R\u001f¶Û\u0014\u000fã\u001c¿øh}Ç\u001dzWfOê+HÍüR+\u0006'l®~\u0014®5i;è¼Ûàpv\u0016»éÆ\u000eiE^m²þ\u001fÍ\u0000)\u001bUÜ\u0004¼sajVª\u0000$±I\u0000\u0001Èÿ\u0001¹$\u001f\u0007ÆX±.ª)ªÉB^YUR¶\u0016KÄ³`%Õ\\'gt¥kE\u001c\u0010a\u0002G\u0001jJÛ\u0006\u0007O,D¯øó=Ô¼ü®DM\u0006\u0018\u0006±GfÚ\\\fI'\u0014\u0013äl~#N?l}¢w\u0015J±Å?Ë`¡¯A0á¸ÎØ`>_*4¶k2¦V\u0018mIË\u0002þh=$zØ}Õ×pÁ\u0001³Rk¤¬6äT4Ç\f6ìq\rÀÛm¶µ?\u001d·\u0000âG\u001cãöÀ9­W`o\u0013»0OYTWæ\u001eÕÀ\u0003Á\u001ch\u0011Ö+ß?wúÓÕJäîÑ¥3iï\bÔòµçEn1DÓ\u0006Ú$\u0012\u001c¹\u0018À\r¶'\u0015Wð\u0001Üoð\u001b¾8òZ\u0004év\u0010ÊÇó)\u0014ÈpËÌd_ù\u001c§\u0005\u0000\u0013\u0011LGÃ(ÜµÝ7\u0014b#bÄÜÔØK|G\u0011-cÊ}\u0016ããöÒÄ\u001fÙ_ÜmýÿÛ\u001cNµ\u0001?\u001d¸ÇþG\u001c\u001cvÿ&|\u0005ÐIlØ¸àÔ\u001a9f\u0006\u001c\u0010*üd\u0001òÙÙ3Iæ¥\u0016Ò\u000b×d\u000e!øã]r\u0005§\u0019¹Í\u0011(RAÒ\u0012E`Q\"*ã\bßóØoì\u0001äsäqÁÿ\rú\u0005F\u0000¢&c¨hMÁûð\u0000\u0019L ÷,0÷´Fä»SNJG\u0000W^Øè\u0001À'>§m¿bWÖ$âÑÛ©dÅ.?r\u0000Äµ\u00018\u001eFÀýÇ$\u001c\u0006ÐÚI\u001b\rMúÏY\u0018Ë÷ýD\u0011ß\u0011ï+dBu\u0003å \u0000:r(êlG)\u0003bÂ{nÃÇò@Ï^OÒ´\u000fÂÃÿÜüp><|N$ê¯ð\u0000\u001b$rOønIÛ==óëM¦u·ù¦?g\u001ePÞ¯:#ÀFW#\u0010ô?TX¬±VHÜ\b¯8÷'ÜÐy±\rMi³a£É$ªàGC¿Ãg\u0002>$·©Ðßâ0ÂïÄwñÿ\u0000\u0002JuI{\u0006i\u0003`Bº\u000e5pÀF7®ôí¢K¾lië$Ðähí¾åÆ]»u(fÆ2ûgvÄl\u000bVO\u0019w3û¹%«lK\u0004üð!ßLÄ\n",
            "CÌ©n1üqÓ]Iv\u001fTç¨ç\"ÝHaP\bÇgå\u0003Ðh\u001b¸h\u0018\u001fàPÄR\u000b\u0011ø@\u0015RÕQý\u0010è \bj:6À©\u0004ã\u0016×\u0002@?oý8êw\u000f°Ã\túu\u0016:©}ÅDz\u0005\u0014\u0002¼Î\u0006¾p»\u001cMðÕ-îINºYÒ\u0004ë½z2\u0012\u0001\u001c\n",
            "ÑÈyðìqj¶ÕJÖ¢÷ò\u0002ZØâ#üz¨HáÎ1Û\u0003ÿ¨ìNKÈa\u00180¤Õ\u001a2r9\n",
            "Úw©ñú+Ëð¦Ê\u0015vq\u000bÉ\u0006\t\u0013\u000f:ÖÂ91\u0001H5F;øMë\u0013/Ê!q$IÚi§ãm&¬I\"OÿªJÿ\u001d­^GÇI8f#VzbÞfX\u0003æU\u0001i×\u0015Lü\u000b\u0014×\u0016©ßÇT\f\u0000MçdýOî\u000e\u001b¥i[Åã¹üÕnÔLc¯×a\u0000à\n",
            "ËÉR÷$\"\u0003þ$Vð9$³còd©-æl\"­ÁWtLC«qX«±\r<Z#q*Ø8sjÒ©ª¬âI\u0018\u0019³ÙÖT\u0006æÇzâ¨qÊ+%¶«Ðß¬ÎÍóm´\u0002\u0005osmÌ?áÅ@¹Â]\u000b7øÆ;mÛ\u0019\b*\u001fí¸\t©í\u000fã\u001dhÍ³$ºÔ\u0004êÊÏ#\u0018UDêð9\u0001¬y\u0013\u0005\u00154Û\u0000j|.\u0007ü©VâÒ\u0001¼y¶;cmÅl$Á;n7\u0014ü8£ÝZ.3¶n¤±9r¡ý[#:¨@ØI#r3*ÃO\u0016|jñ\u0019°VÔ&\\Z*)?î+tËì¸ )=\u0000\u001e\rÌ¤¦ö?6W\u001b$ïÀ¥`äe\u0006ÔNãJî\u0002Çd«\u0006ÜÛg\u0015¨ìRÐà*]Wÿôâ=FfÚvÕbí´\u00112:GßØ4¸jD\u0000Ô)\u0015¸ÙÃÍK±~\u0012\u0004Ú¡\\ê2jCÕ$`Äu`¸UkqÇ-6bGJ4¯yÏÉm»i:£7ü¢Ä8ve­¸-h\u0007Û\u000fT¬\u0002,\u001e$ª´i\u001aMÞò$¸G¡\u0017K(\u0002¡²UQ$å3\u0015*ª:®`9\u0003e\u0018\u0013\u0007\u00006mm´ÛÙ×BàcÿfÛU\"HMiS\rlãZÜîv\u0001]ñÒ°¸\u000f\u0010¦í¬\u0007\u001d\u0003Z?ü'¹¬%¬B¬.AÑ&¬0è\u0000»v?\u001dN\u000e©%\u0007\u001fâ\"T§?\u001fûKHÛ¨\u001dª·CÜ\u0004áÿ%½¸õ$-\"\u0007Dþ2¥¶\u0018è¯p\r)S$Í¾Ûz½ÚX{b&ãK \u0015¥)Åÿ\fI)æÍ,½QG\u001f Õ\u0016rp\u0007ÿÄux9%\\ý\u001f\\'h\"F¾\u0002þ\u001e<n\u0016Îw?\u0001$.#uÅ\u001eFÛgã\u0011.\u001dKV4\u001cÖÞäÇ\u0015°M«\u0000êªn3¶{#\u001cÉi¡\t¢3§\u001cá.\"Ò#À\u001fð8@P\u0001W\u0015G´{l!ï.\u001b+~O¬ZOiI\u0001*ªÚö;(÷eÉ\\\u0004C9âí+d¡Ð\u0005iß´?Ð\u0004ñ¡Xí\u001e\u0005¤uf\u0016ÀdÛcàÕþ-&ü\u0000¯ýÎêéh±·±Ç\u001cloæ-åO\u0007Yÿ\u0000U&\u0010-VâX`\b¯\u0013ÀC\u0010Ù°,ß¸\t\boø¹qÿ£@\t\u0007ôä\u0015(O\u0016¤ª¦nër#¶n\u000fª®%Ò\u000føCS\u001c[2TT±'~À`Yù¨ñ\u0002\u000ebXO6\u001eÔ=Ë0ÑÀ4°¬\t\u0004\b\u0015zdbùn6Ð]ïú·¾ßñÏi½V­f{U;\u0014«eõÄ*¡ûÛn\u0002¡ÒØ\u001fô2Äè[$®¾Õ±3\u001a\u0012H&ñªtl>ÉÃû!úµ\u0013üIi\b²\u0014\u0001Ì:ï90äxØ©ð¶Õà\u00135¡\u0014rvºèÕ:¥ª\u0011<\u000báÍúVÇ¸\u0004B66Ý­©RJBî)ÐÄ\u0015\u0014¨ñÖ\u000e5÷¬àt­\u00008s\rµ\u001e0\u0000Æ\u000eý®\u001cIðõo\u0010¬\u001c­wÚ«ôÚã`zR¤ÑC`\u0012Q$«ÇpqÛÚud\u0013¨~ô\u001f$;biÊºM4Ý­ÿ\u001cd\u0001p²2PÃ¬³u?ø·\u001fÀ\u0018ðÛnÛ\u001aHÇ\u0002\u0019¶Å¿àý×\u0000\u0002ËK¦u©µUÛbäàAÿ7\t#è?a¥NÖå¶Wg\u001bÛñÇRB6,´\u001bÛj\u0010: \u000e&O×\u000bX\u0018y\u000e=+8¬\u0003«vü\bc\r¶\r°[oÿÿââ\u0000\n",
            "lªÿWä \u000f/ð8í\u001bfÙðË¦ýP©O\u001cVQP­[\u0010?\u001fÄ¤àfÛ\u0001²Nãòjàí£\u001d\u0000¡w¯ý#\u0003¿Õ·\u001e8ÚIpÛm\u001bÆI\u0000\u0000ñ#\u0007\u001f\u0018Î¶ 8¨UIEÎõ\u001bH\\mÁø$·/¹\u0018\u0007àl0¯9UÙE\u00069T£\"\u000bn\u0006l\u0000\u001b¾\u0007:ßñÙÁèõéÀpP#Ïè\u001d[v\u00022dº¶Ø\bäyÇãÿÀ¡o\u001cU½º*Tu4ö\u0018Y¾:.SÛãÏ£Ùí¶BPç\u0019\"\u0004¶ãFÀ\u0001$à\u0002Rüì\\\u001eßæ`.ñb\rÛ>U©\u000e\u001eÚC¸Ûl\u0000m¹8ÿ\u0010v\u0016Ø\u001eØÔ´i$sAÂÓtGR\u0000¶y1\u0010ûñ<ªÛÍ`\u000f½\fmE\r¶'\bäd mÏzÐ\u000eÚ@-\u0002\u0016í\u0010ÿÃú\u0016í\u0014èý;ÿ\u0000\u0007$\u0013ÿÿà~\u001fJükñ¸q'8íÇ=XsAr7-^¬µ\u0007&¬¿\u0001¤jUº3ÿVë\u0010Å\"NA\u0002@fRH\u001c©\u0007­ãcþ 8\u0011Á1wÊ|(¶ÆÇ6c¸ÿý°m±¼\u001fÀ\u000fëÁ&À#\u0003rèLOâ¯ýÿl`BJ£Q½àÿÊ¢ëKG¼t±S,UQ®\u000e6æZ´/É:Oí\u0000\u0001ÿ\u0002U£IW-»m¤ÍÎ.@\u000fä\u0000\u0006Ûðqø\u000føü\u0013k\u001f¦¼RQLª\u001bcèê¾%\u0004¤º* ·TÁß\u0014\u0002/\u0011\u0002Áí¶ÆäBôÜ÷öR\u0000ã\u001e £ $%Re­¦¢v:FÜôà\u0000þ@\u0000m¿ÿóàÇ\u001fñV»ê©'$Ø¤²/dÃ\u0011µÜáÄ0£ñib\u001b\u001fýñ\u0007}÷±Ç\täv\u000el\tìÈâ\u0000~\u0019r9\u0000Å/ñ%°-IÅjEþÈ¦\r'\u0012dþ\u0001\u000eü\u0000\u0006À\u0003\u0004qÇ'd£¶¬IÉÌt'\bAæ\u0007$>Uhûê´0 R1åÂ\u001eòC?\u000f\u0013\u000bq\u001bq@\u0006ÚFãp\u0003\u001fldâÔUbgã¼0É<q&1ÂFð\u0000oÆ\u0000l\tÀãñÇürNªDÛbcgdô\u001dÇ+ãfp\u000fSuëf¯sÌ#¡p@!VJ¡\u0018\u000e6ý\fFáÈä\u0000\u0000\u0012Äì@9!ö%ÏêIâv:qØßÃ+ÆG\u001bâ\"H\u0000,`\u0006À\u0000\u00008\u0003ÿÛÅ[dom¶ÆÀ'·\u0007h6Óð#¸¥êÍÑnù\b\u0003T,<`Bmñb®?ò(;mM¦A½¶ÚüRÿ\u001dþ¥¡$ìÝ¡CÐ=£mÏÔ·ô\u0002À\u0000l\u000fÄãð?á¼Rµ¹\u000eÄÿ\u0003\u00024\"\u0003\u0011v5Ë¼\u0013Óõ/\n",
            "ª\u0015*ý*¨ýGW¶\u001c\u0000w\u0012KTëZêM% \u000e9¾\u0012ZbN5\"ë?I\u001cü\u0004¿H@¬\b\u0006À\u0010\u000fÿôp\u001b+[\\I\bèÃÆ?Ï¡úF¿[EqlÏÙ\u001a\u000eEQ«iÐ'D¥nÔ.8Ø%'\u0012DNJÚª«mÒÝ,Ý\u001eÓ³ÍË\u0001ðH¬\u001bo?DC\u0004nÀ°ï¹\u0018r\u0005G\u0001´¶·\u0015Äþ?õ?Ø9A×z[Õ»\u0011ôç1½©2\r<²sI8+\u0019'QÆüÅ¿V£VÈ©U\u0000\u000e\u00015\bÞW·Nrª.N}ªn8\u0000`\u0018Ûm¶¡\u000bèÀ\r±D­ýRI-\u0014òÕtL\u0001\u0017í3\fpK×Û¦\n",
            "(Yi\u001f\u001a\u0001 \u000fV.µ\u0014±\u001c\u0005Ävô­'dJ·6ÀüCül+:£³§`'f\u001aÀ6àp\u0000\u0000\r¶Ûl\u0000ÿ\u0000Û\u0019$JÔ.JÓªGY*ÅÝ+ÀñÀ?Äúù9¹h\u000bo\u001aYAi\r\u001aïl^$C·ñÚÔ­r8¢¤£l\n",
            "vÂ¹2ZþÓæ\u0019ãáÀ\u0000\u0000\u0000Ûm¶À\u000føÀ\r±Dµkq&ÚNQ\u001fwÍÅ\u0003yàÎ®ÓeÃ|Ëqw«7ÁLµgi\u0000ýº»6RJÙ$pÕJFú¨F:O¤¡¡,@9ÑµÔ>Ü\u0000\u0000\u0000\r¶Ûl\u0000ÿ\u0000Û\u0019$Kh´á²´Ñ\u0017Y¾è\u001bÝ ÑÆ\u0012òEÞÈ*ÀêÀ$Î}B´qÿäüL$ÿÿÛHáþ¤n¥¡Ü[\u0002B!6Hf:àS$ß?\u0000\u0000\u0000Ûm¶À\u000føÀ\r±ÛbvÁ[xªÎù|\u001c\n",
            "2å7ooÇ<G\u0003FíÎ_U)þ\u0017å.)_ým·Ò§`\u0000ý¹\u001c?í½·\u0011Æ\u001e8\u0015¤\fG\u0013¶ãÃÃð\u0000\u0000\u0000\u0000\r¶Ûl\u0000ÿ\u0000Û\u001d¶'mUÙ¸áU,8r\u001bÃ·­µÁBtxß\f-\u0015\u001buµ!^tOzxóU¾Ù<`®á.Fä7\u001b\u0003þ\u001bk\u001dg\u0013ÙX¹^b«\u001cú\u001b \f0\u0000\u0000\u0000Ûm¶À\u000føÀ\r±Ûbvöâm¸ê0#¿à\t\u001al6ò59.\u00108n«\"\u001bþuC¯vã\u0019Ü\rä»m'N¢C#q)$\u0010?\u0002*±Ûbq9\r÷6²q\u001cd`0Ã\u0000\u0000\u0000\r¶Ûl\u0000ÿ\u0000Û\u001d¶'zq)[LËÒ\u001c`z±ÅYs%TÙ¨wÿö\\aÀß½ÚÍ÷\u0014Iö·\u0010=W\b$\u0011$£Ç\u001d\u000b-¨Ç\b9·S¸¶\u0003e\u0018ñÆF?aÆ\u0000`\u0000Ûm¶ãÀ\r±$H\u0005\u001b9\"méZQ\"\u0014-­Í\u001fûàUÉø\u001bv6\n",
            "¤+'µ\u001b,zþÝ©g\u0012J3ØËCÛ[r$o+\u000e\u001a(-NO[ãö\u001c`\u0000\u0000\r¶Ûn0\u0018|\u0000Û\u0012I$llÖh\tçbÎh!c-×\u0002Èæ9ÇDdlH\u001f´8ì\u001dÏ??û\u001e@\u0004Ú¶©E%v)eÆ\u0013½¹À\u0006-=[ýrµWQ¼;#n>ü\f\u0000Ûm¶ø~7À\r±$B²\u00122F_*\u0015°dÿ:Ñqq +Zs¼\b£\u0019¬ðþëc\u0019)nI©ÊÊ¤TJ¬q9\u000fß\u001bð7dÑÔ\u001d ¾.\u00022<\u0006ãøØ\r¶Ûo¸\u001f|\u0000Û\u0012I$\u0016jª­!³GäÇ\fª×´~?\u0017n#\u0000~Ùµ\u001e³,Ùà]ó\u000f¿ÜKlQ¼ÇmÛmÇ\u001c&Èm8àÐ³ýØñEû\u001a¥¼\u0000\u0000\u0003ý°Ûm¶ø~7À\r±$\u00016«j.h\u00032r G°|&É\u0000\u001d=Îa$åD¬ÙËñ£|\u0003Ñ\u001bÚ©³\u0015¼vØã¶ÇmÀd¶ñ6°,äWêí\u0006}áø\u001cp\u0007;m¶Ûa\u0003\f\u0000Û\u0012I\u0000=QØÔ^x>U«b3rÅ\fÌmH¬«±J­þÓD¡\u001fÃ8ÊBUqäÇmÇ\u0013±Km¿I$zªf¯Æ\u0006=\u001fª\u001fñÇü\u0002NÛm¶\u001bÿðÜ\r$\u0000\u0003[ZrYè<þøSui\u0018!Ç,jÅ\u0002J§m.2\u0005iÍçÀ,\u0004¤úÝ´\u001fÜvØìqµ\u001d¶\u001eD\u0003ôÒËwÒXû9 S¤l ?ÿÿÀ\u001fý¶Ûa¿ÿ\u0001´rÈLrº¢ùr\u0018ú\u0017'ÈjÓû­¦ÍýµÕ\u0014±Ö-I\u0007iæ'\u0019Ëý½$H\u0000\u0000;k#gcA\u0006ßÛi$oe$à\u0017ÂMô*©ò\u0011E\u0012Û\u0000\u0000Ûi$£ð2\u001bµ¼ETÔ»\u001e |oÛ\u0011ìä³¡¸ÔÚyYdvæ\r³$élþ?ûd\u0000\u000f¤;W±Åà\u0000\u000b¶Úä¤KJ»\u001b\u0012\u0001 \f½»lQ\u0014\u0001°\u0000\r¶\u0004ã-¹r¥\u0017¶\u0018Øü_½?ì\u00028­ª¹X#4ÿ9×ÀE´¶%$\u0000\u001c¤åû\u0000\u0000\u0000\u0010\u0000ôoà·IÃ±wÛbNÙ\u001f&_\rúKð\u0000Ûi\u0000Kð4é\n",
            "[pi¥fvxéã¸ÝÁ)#²:£mçUMË,¦\u0013¥\u001dYy®ªÑÿµ-¢H\u0001ñÄËò)\u0000\u0000\"$\f1r?Õ2\u0001õw\u001c\u0007N[\u0010µ$?\u0011¶Ð\u0005\u0000\u0018\u0000µl©Üd2\rIè\u0012°x\u0004òÞJ©ÚãjV»Væ¬¶5±ã+þ?.\fª\u000fP\u0000\r¶T®íÄ§\u000bm¶óÿÿÃ$KòÅ4Ýi\u001f¦Ü\u0001Ó¨È££ \u0012J'[%gp÷~¦íw¿÷\u0017é°lî\u0018¸iÉ*ÞÆ{I¸ \u0018mqÝ_ôp\u0000À\r\u001c;$p\t$\u0000\rÓYTûqB~ä¼b6ÿXÖØ¶ÀÿðÿþÔC\u000bÓ÷'Ù#õEK\u001d\u0006½æû[\u001bk®mG#N¢\rý(@8§x\u0000âI\u0000I+[n\u0012t\n",
            "Õ0öÛ´$I\u0018×\u001cnAQküa\u0010\u0011m?&$97\u000fûR¨I¿Ã[¶ê\rc\u000b¨\u0000ãi¤zÒý;ZJªcÂKh±Ç\u0001Ü4¶Û¹\"\u0019Üp\u0000Dµ¶ä=jCklBI$©\u001coù\u0001]\u0007`Ê¶\u0012A\u001f\u0011mRàB{~\u0000H\u0001\u0015\u0019\u001e\u0000ð\u0000ÿz\u0018#Å@\u0017JA¹Yø©:Û\rêÓ\u001d¤íqÈ\u0000G½±D1Uµ/øI$­¶Û;\u0012ÍÿÀNl/\u000fH9A\\\u0011>\\\u0000\u0000GG#{i\u0000Vª\u001fvØ\u00013îß\u001bËH\u0000­\u001d\t\u001cm\u0012ìG\u0013Q«²Õ\u001c­¹û\u000b\u001ad5¤\u0016¤¨·\u0014I+mm´7ªØøÿ¸IK\u00138;\bL\u0001IÊ©\u0018ÄÇ\u0003+Ë\t8Ä\u0005¨\u000fÀ\u0015m\u0010v\u0000~Ð\u0005\u0019Å{õ+°¨\u0006¬#²¨²(k¹7\u0003>a2 \u0007ÕKÇ2ô$IÛmµR\\\\\u0000\u0001Àª«\u0001É¢¾\fg 9ª±ÛD²-¤?\u001d,Nd/ã\f\u0002\u0011Ù&\u0016©\bÕAp\u001fkÙÙÕTYHÐ©G\u001c¦þÁØl\u0019ò¦ä:lr\u0002I$¶Ûi*ÄÎ\u0000ÿØ¬\u0000\u0005dËoäHÉUÅþV&ñå¡Jð<\u0013¹\u0006¼\f1\u001f\u0014d\u0012!P_Ø\u001aFà¶ÑÄNá=´ª/TR»\u001a4PãsÄ©\u0012Ì \n",
            "NðòUj$[I&#\u0014\u0000Ç ®Jª&Ô\u0002q\u0006ªç\u001bd3c\u0019«UQ;C\u000b`\u00066æÀ\u0001\u001fC\u000e¨Pömú%c\u001aï\u001aµe\b»ÒN_:ý,\u001b' ÜBÕO§o\t\u0002I%¹$M¶¨{Xõ\u001cI\u0002êàZ'ù\u0015\\N¤`eIA ­©%mU%[Ã°ÀIæ:\"Ô¦¤ªà8U^\u0004VPU\u0000P¶ÝnÄÖ\u0014\u0013\u0013bÆC\u0004HI \u0010A$ÛOÿ)*©¨÷ª;|r@#e!Ú\u000f\u0004loÃfÓ¤\tU\u0012N8ã²¹ÛZ­ê\b\u0015~ûbZ®\u000e;ª\u0003J¥{Êÿ9WºÁbm~¿Á\u0007$x :ó¦\u0017k½prIm¹$ÿüP\u0001J$z\u000bmCñþµZ©8ã$In\u00007¸c¿·\u001fø\u001fñôÈâl\u0017ä2]²W\u0005±É\u000f\u0011Sr¹\"\u0014)ÉúÏþÃJ2Û+1Â\u000e~!I\\NüeU[øÉ(¶Ûo\u0010½ÛHß\u0000\u0000\u0000?ýµ¹Í8ª'lvfßö\tõ6Tºl\u001b/a\u0000N\u0012\u001dÂÌï\u001dm=><|U\u000b\u000fªãû\\!bp\u0007\u0019-ª¢ÌÀ\u0000Tß$j$ªÛm·ù\u001bÄ\u0000ãà\u0000\u0000\u000bvÛoÒµ3bjUvB[r\r<Å1¾.VÕ%8ß\u001fÛì\u0002½Jtq\u001dJÓÓãÊ\u000f¾þÝz±ìÚ Hã\u001b\u0000\u0010ÆôÃ9:V¤­¶Û¹\u001c`\u0001ü\u0000\u0000\u0000»m¶\u0000\u000blÙ¼^\u001b\u0019\u000bÄ Æ_`ÿsè\u001dd$ó\u0004¥RÉ_\u000f§#Pm=\u000e%;æ\\å©IÝWZ}jZÑ\u001e(\u0010\u0000þG¶$æ\u0016\u0018@¶Ûm·ù\u001bÆ<Àp\u0000\u0000;¶Û`\u0000¶ÂKÇ-4dEpLÝÞMà\u0001\t[µénA_O®Jê=Ý\u0011xâª\u0011\u001fÑWJ\u000bòÊMÊ°gm#ÿð\u00078åPÈã\u000fE¶Û¹\u001cÁÇ\u0000\u0000\u0003»m¶Ûd8¼J$\u001a\u0016x8¿(~\u0002£ãó®>Õ.8&zm1åv[8HS¨ìÖÈQÎ&øt¾º×>¤+s Ilv\u0003¶Û8äëm·ù\u001bÆ\u0007\u001c@\u0000\u0000;¶Ûm¶I-² ºKx¬!þ«O×á¬ÖùÕóBL¦Ç:M¡\u0007Rª³\u001fÇ×*È\f#t%QÌ¾ÈÉ\n",
            "û·&ãA\n",
            "M¶9\u001cqÑÉ\u001e¶Û¹\u001ccÆ\u0000\u0000\u0003»m¶\u0003`-'R\fcÁ(ÿ¿ÖÜjÚR)ÓXÉ§ö×~#ã5³§\u001bmp¨å|×7¹ÌÊ\u0002\u0002¤mÍÀO\u0011\u0015\\N&Úª«U8ã¤M¯m·ù\u001bÆ8\u0000\u0000\u0000;¶Û`6\u0002Ørx\u001c\u000f\u001bT\u0002ð*\u0003¸¹ÄÉ¿Ô¤\u0007~ß\u0001m^ä;%±¶Õ\f(øî\u0007\u001d\u001b\u0003@ÚÊ\u001bëï\u0003CC%Èø\u0002G\u001e_ñÜ;\u0013öÛ8ã`\u000fø\u0000\u0000\u0003»m¶Ûm­Ç\u0007·\u0003\u001dUk&\u0001~m¼Vâ¿nïxí)Æ!Ñ×åu¼\fJJ¬ò¿üN2ÀdT]ûZ?\u001e6±Í;þ\u001bpâxãÏÿí½¶$Ïm·øã6\u0000ÿ\u0000\u0000;¶Ûm¶ÚÙ[\u0001³¸ÚTÖ\\%¨i0Å¬\u0001!¶®i2\u001a\u0018é±Õ]r|\rV\u001b'×±=vÿØw¤d»®YÒ´C±µ%f\u0012J;möÛ8ã`\u000fø\u0000\u0000\u0003»m¶Ûkm\u001a\u0015±Ñí«v¡8ïB¥¯ùðÜë@\u0013e[¦°M Û\u001cUH^µRr¶¥g´â\u001c³XËãWDÓDâc±ã$dðÚ·\u0012N$ûm·øã6\u0000ÿ\u0000\u0000;¶Ûm¶¶ÃÊhq²CªühBòÇiä¥ôN¶ûµ´ýï$Õ\"Å]¦e\u001b&áVM´V'Ø\u001aA¥ÈM\u0010A#q°\u0007ªÛ\u001cvÚ©\u000f\u000f¶Û8ã`\u000fø\u0000\u0000\u0003»m¶Ûkl'L'X\u0000÷\u0016²,\u000eÙ ò2\u0006µne¶-g(J÷L®ú\u0005²·ß}FÂWQ¨Æ»ÛzÙ¹\u000e4Ó_úÐ<qÊ\u001fÍjµ*;rm·øã6\u0000ÿ\u0000\u0000\u000b¶Ûm¶¶À6ÆSî\u0007\u0013\u0011²ÿ\u000bKE\u0010h¥&hCu\u0004Æt0¯u¹±'f\u0000=x\fÍo.»ËvQõ+J¥íß8Õmàc·¹\u001cü9\u0018öÛ8ã`\u000fø\u0000\u0000\u0000·m¶ÚÛl#bvÁ\u000eþav\u0015s\u0003W![#Ýáq;l±³óÍ,Á[¼\u000fÃ\u0000{ïx\u0010î\u0017ÒuU\u0011P@ú0ïýMýµJÖÎÉRJ0*ª}ÿøã>\u0000ÿ\u0000\u0000\u000föÛÿlB6'\\7\u0016À/p õ\u0014¼47eoiC×m\u0005î\u0001!&OùÃÐ\u0004ÆE\u0015||\u0006Ô»p$EiÌ>\u0015\u0000FÎ÷bª5~$7jó¾6\u0000qÇü\u000e\u0007\u0000\u0000\u0000m¶À\u0012m´Ò´?útP\u0006%í\u0018$°2!®û!qk\u0019®àÐ} ÿÙ¢Ù\u0012\u0003\b®a$ZíÈ@\bÝ7\bØ819\u001bsxõ$\u0004x{$ÑÀà\u0000\u0007\u001cÀàp\u0000\u0000\u0006[I\u00006ÿêµÿw42ñË\\I\u0018­\u0001R]4Ä<±NÕ0/\u001b)\u0013©\u0013lÓ\u001c\f¦\u000e²2\rvÿµ\\Üs\u0000\u0001³¿«\u0013W\u0018íPl7\u0002`\r°\u0000aÇü\u000e\u0007\u0000\u0000\u0000\b\u0000\u0004m¶aÍïê#ç|\u0018\u001b!\u001c^ç¹°ß{¿\u00001m\u000f\u0017Sÿ¶ÿ æÐyø¶h\u0013\u0015§É+¸íªVÚªµQÜxW\u001cµ¼F\u001b\u001føÛ\u0006\u001cwÀàp\u0000\u0000\u0000 I$ÓguË{+p2\tºôU\u0003xOóÚ\u001dXq\u0011)Èp\u0002\u0001+oå·\u0013'IÀÙ\u0001 \u0019ªÝrû]\u001b¶©*Þ)+R½pÛ\rÈ;At\u0017Ae×|\u000e\u0007\u0000\u0000\u0000Ûi$Yf´vTz¤fE\u0011Ò\u000f­\u000e=m)Æ9È\u0002D\u0001\u00104\u0015¸\r4.I$\u001bÀCä\u0006æ\u0006úFRÊAü\u0016£Ð]\u000bRµI#lËrØêµRµTUwÀàp\u0000\u0000M¶IjB@\u001cÓ¯\u000e¦}\u0002>\u0002`M\u0010,ÿÌ\u0007qÚ/\u0012\f<I¤%\u00166I!r4NÈÕp9WTQâÅ!ÿ©T®;\u0013²¢K/\u0019»\u0013¶Û\fu|\u000e\u0007\u0000\u0000\u0004Ûm­»\u0000ªzÈ6£\u001bE/Y\u0003+N@A?aE\u0016ä¤i1ª\b\u0001¶d9\u0013`\u0017r È°=æäZû\u00121Õ\u0004ªI$­I*ÜüpäNÇ\u001d°ÇWÀàp\u0000\u0000M¶ÚÝIMÍ¡\u0013°f­%´ÎÄìµC'Q@#q¹+²öÝ\n",
            "`ÛQÑÄ¬ª<*¸g\u001av\u0019÷z\u0012<J\u0007\tm­¹jqØ#ØâKí´ \u0000\u0000$íqÇ\u0003þ\u00046ªønz­\n",
            "çqþTô\u0013*Î\u0005Lí·\u0007\u0001$Û´/|­Q\u001bcÈ®Ç/¹áÍI~>¨fpû>§\u0004)U)\u001d42'R»\u0014?ü¶ÛJ\u0000\u0000\fIÛYÇ\u001cp?àE\u0015¶ý\u0014H@áÂÖPo$ýnî¾\u0013\u0000l£°¶\u0001#IIñÃHä)\u0011\tß+j©D(\u0003×B®v\u0004M\u0000ª¡ÒIlG(¢©»bKã±ÒI%I$JÚqÇ\u0003þ\u0004I&\n",
            "©\u0007\u0018À\n",
            "51Ïu\u000eÅ\u0015ò·1\u0014µ¶9\u0015 Ú¬¹$\u001f\u001a%í.RK\u001bCs>J¸àþ¨`\u000e9\u0011¹\u001dJ¤QDâMÖRUÙeÝ¦d\u0017½\tÇ\u001cp?àDª\u000føNQÅ\u0001\u0001yù+\u0013 fâ²\u0004Ò;¼ ³bª¶Õj\u0004Éh0$Ú \u0006°WåáÄlS4\u001c\u0004äÆÎ'Y#fYæM5[Qü\u000fÐA\u0004\u0000Ûm¶Ø\u0001ÿqÇ\u0003þ\u0000â>\u0019Hj¶\u000ffq|~©^óQ,ê×Kÿ1»xVBg;XÍ T\u0015ÔºHxÆÞ1°ÚÛrBIØqF¼¼/ý³ÖÚ«bI \r¶Ûm¶Ûm°\u0003ñÇ\u001cp?à\u0007 å%náp:ü[²âÉ\"Éè½U$¤µû\u0000­»eÒmØ\u0004Éß\n",
            "QÊ\u00178·¨oÏ\tFûqûÆØéHJÇ\u001eÇY IZIÿÿÿ¿ÿÿ\u001fð\u0007\u001cqÇ\u0003þ\u0000àvR\u001bØDc0\u001c{m0\u001fbpvÇï\u0012Wÿ7øï1¢\u000f\u001c¯\\Ø/7!º¤OÓ«\u001b\u001e©8î\u000fRU¡/ì¥k\u00007)\"s\u0013;T\u0000ü\u000bm¶ßû\u000fÀ\u001fñÇ\u0011Âm +R\u0018XÌþÒQî*\u0004ä!²ÁzE­µZ§ÁÃþ(KJ°vsÔr57Ö\u0013^>9ÙÌHT©SH2\u001f\u001fí£W%UÆÉ&6ã¡äHòXì!ol\u0013ú\u001cqíéé\u0018©Å:¤È\u001fbqÇ±ÉÆ/-÷û\u000e?u\u0013 \u00015\u0012i(\u0018äöøãªA\u0004@ \b6¤ 78Æ4¸´ç\u000eÅ$±Ú@\u0010m\u000f#\u0003vª¯^\u001fÉ¤úG»Ø\u0002(¤­C«$;\u001bqîÜ¨íN?'*¶\u0012´QÆ¤8Ü­§bËjX;p\u0016ä¯.6/¤à\u0007É\u0000\u0003·úm­´âcü7r­:¡Î¸ÕÜ¢6øòq6þ\u0016ÑÕ¦3¿\u001eFæ\u0012Kq8Üî\u0003Lª¨ç\u0012ªTJ$#\n",
            "\u0000\u0000\b\u0000[GÏ8Ý¦äîÿÿÿ1ÈÀÆ;«\u0019\tÙZ±Ú?ÜWøÀÅ_ÎSU' ÿâH<x!Ög ©\u001ee'Ûm$´âv¬±'×h8VÀv¶L$IÒ;jüIÒµZ¨ ]\u001c%jJº\u0007\u0003Ü\n"
          ]
        }
      ]
    }
  ]
}